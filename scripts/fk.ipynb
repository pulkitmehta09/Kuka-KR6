{
 "cells": [
  {
   "cell_type": "code",
   "execution_count": 9,
   "metadata": {},
   "outputs": [],
   "source": [
    "from sympy import sin, cos, Matrix, pi, symbols, simplify,diff, Function\n",
    "from sympy.interactive.printing import init_printing"
   ]
  },
  {
   "cell_type": "code",
   "execution_count": 3,
   "metadata": {},
   "outputs": [],
   "source": [
    "# symbols\n",
    "theta1 = symbols('theta1')\n",
    "theta2 = symbols('theta2')\n",
    "theta3 = symbols('theta3')\n",
    "theta4 = symbols('theta4')\n",
    "theta5 = symbols('theta5')\n",
    "theta6 = symbols('theta6')\n",
    "theta7 = symbols('theta7')\n",
    "d1 = symbols('d1')\n",
    "d3 = symbols('d3')\n",
    "d5 = symbols('d5')\n",
    "d7 = symbols('d7')"
   ]
  },
  {
   "cell_type": "code",
   "execution_count": 12,
   "metadata": {},
   "outputs": [
    {
     "data": {
      "text/plain": [
       "s"
      ]
     },
     "metadata": {},
     "output_type": "display_data"
    }
   ],
   "source": [
    "# s,c act as aliases to sin,cos\n",
    "s = sin\n",
    "c = cos\n",
    "\n",
    "# the intended short-hand functions used to replace sin/cos later on\n",
    "s1 = Function('s')\n",
    "c1 = Function('c')"
   ]
  },
  {
   "cell_type": "code",
   "execution_count": 4,
   "metadata": {},
   "outputs": [],
   "source": [
    "# symbolic matrix function\n",
    "def transformation_matrix(a_in, alpha_in, d_in, theta_in):\n",
    "    return Matrix([[cos(theta_in), -(sin(theta_in)*cos(alpha_in)), sin(theta_in)*sin(alpha_in), a_in*cos(theta_in)],\n",
    "                [sin(theta_in), cos(theta_in)*cos(alpha_in), -(cos(theta_in)*sin(alpha_in)), a_in*sin(theta_in)],\n",
    "                [0, sin(alpha_in), cos(alpha_in), d_in],\n",
    "                [0, 0, 0, 1]])"
   ]
  },
  {
   "cell_type": "code",
   "execution_count": 5,
   "metadata": {},
   "outputs": [],
   "source": [
    "A1 = transformation_matrix(0.350, -pi/2, 0.815, theta1)\n",
    "A2 = transformation_matrix(0.850, 0, 0, theta2)\n",
    "A3 = transformation_matrix(0.145, pi/2, 0, theta3)\n",
    "A4 = transformation_matrix(0, -pi/2, 0.820, theta4)\n",
    "A5 = transformation_matrix(0, pi/2, 0, theta5)\n",
    "A6 = transformation_matrix(0, 0, 0.170, theta6)\n",
    "\n",
    "T01 = 1   * A1\n",
    "T02 = T01 * A2\n",
    "T03 = T02 * A3\n",
    "T04 = T03 * A4\n",
    "T05 = T04 * A5\n",
    "T06 = T05 * A6"
   ]
  },
  {
   "cell_type": "code",
   "execution_count": 13,
   "metadata": {},
   "outputs": [
    {
     "data": {
      "text/latex": [
       "$\\displaystyle \\left[\\begin{matrix}\\left(\\left(\\left(- \\sin{\\left(\\theta_{2} \\right)} \\sin{\\left(\\theta_{3} \\right)} \\cos{\\left(\\theta_{1} \\right)} + \\cos{\\left(\\theta_{1} \\right)} \\cos{\\left(\\theta_{2} \\right)} \\cos{\\left(\\theta_{3} \\right)}\\right) \\cos{\\left(\\theta_{4} \\right)} - \\sin{\\left(\\theta_{1} \\right)} \\sin{\\left(\\theta_{4} \\right)}\\right) \\cos{\\left(\\theta_{5} \\right)} + \\left(- \\sin{\\left(\\theta_{2} \\right)} \\cos{\\left(\\theta_{1} \\right)} \\cos{\\left(\\theta_{3} \\right)} - \\sin{\\left(\\theta_{3} \\right)} \\cos{\\left(\\theta_{1} \\right)} \\cos{\\left(\\theta_{2} \\right)}\\right) \\sin{\\left(\\theta_{5} \\right)}\\right) \\cos{\\left(\\theta_{6} \\right)} + \\left(- \\left(- \\sin{\\left(\\theta_{2} \\right)} \\sin{\\left(\\theta_{3} \\right)} \\cos{\\left(\\theta_{1} \\right)} + \\cos{\\left(\\theta_{1} \\right)} \\cos{\\left(\\theta_{2} \\right)} \\cos{\\left(\\theta_{3} \\right)}\\right) \\sin{\\left(\\theta_{4} \\right)} - \\sin{\\left(\\theta_{1} \\right)} \\cos{\\left(\\theta_{4} \\right)}\\right) \\sin{\\left(\\theta_{6} \\right)} & - \\left(\\left(\\left(- \\sin{\\left(\\theta_{2} \\right)} \\sin{\\left(\\theta_{3} \\right)} \\cos{\\left(\\theta_{1} \\right)} + \\cos{\\left(\\theta_{1} \\right)} \\cos{\\left(\\theta_{2} \\right)} \\cos{\\left(\\theta_{3} \\right)}\\right) \\cos{\\left(\\theta_{4} \\right)} - \\sin{\\left(\\theta_{1} \\right)} \\sin{\\left(\\theta_{4} \\right)}\\right) \\cos{\\left(\\theta_{5} \\right)} + \\left(- \\sin{\\left(\\theta_{2} \\right)} \\cos{\\left(\\theta_{1} \\right)} \\cos{\\left(\\theta_{3} \\right)} - \\sin{\\left(\\theta_{3} \\right)} \\cos{\\left(\\theta_{1} \\right)} \\cos{\\left(\\theta_{2} \\right)}\\right) \\sin{\\left(\\theta_{5} \\right)}\\right) \\sin{\\left(\\theta_{6} \\right)} + \\left(- \\left(- \\sin{\\left(\\theta_{2} \\right)} \\sin{\\left(\\theta_{3} \\right)} \\cos{\\left(\\theta_{1} \\right)} + \\cos{\\left(\\theta_{1} \\right)} \\cos{\\left(\\theta_{2} \\right)} \\cos{\\left(\\theta_{3} \\right)}\\right) \\sin{\\left(\\theta_{4} \\right)} - \\sin{\\left(\\theta_{1} \\right)} \\cos{\\left(\\theta_{4} \\right)}\\right) \\cos{\\left(\\theta_{6} \\right)} & \\left(\\left(- \\sin{\\left(\\theta_{2} \\right)} \\sin{\\left(\\theta_{3} \\right)} \\cos{\\left(\\theta_{1} \\right)} + \\cos{\\left(\\theta_{1} \\right)} \\cos{\\left(\\theta_{2} \\right)} \\cos{\\left(\\theta_{3} \\right)}\\right) \\cos{\\left(\\theta_{4} \\right)} - \\sin{\\left(\\theta_{1} \\right)} \\sin{\\left(\\theta_{4} \\right)}\\right) \\sin{\\left(\\theta_{5} \\right)} - \\left(- \\sin{\\left(\\theta_{2} \\right)} \\cos{\\left(\\theta_{1} \\right)} \\cos{\\left(\\theta_{3} \\right)} - \\sin{\\left(\\theta_{3} \\right)} \\cos{\\left(\\theta_{1} \\right)} \\cos{\\left(\\theta_{2} \\right)}\\right) \\cos{\\left(\\theta_{5} \\right)} & 0.17 \\left(\\left(- \\sin{\\left(\\theta_{2} \\right)} \\sin{\\left(\\theta_{3} \\right)} \\cos{\\left(\\theta_{1} \\right)} + \\cos{\\left(\\theta_{1} \\right)} \\cos{\\left(\\theta_{2} \\right)} \\cos{\\left(\\theta_{3} \\right)}\\right) \\cos{\\left(\\theta_{4} \\right)} - \\sin{\\left(\\theta_{1} \\right)} \\sin{\\left(\\theta_{4} \\right)}\\right) \\sin{\\left(\\theta_{5} \\right)} - 0.17 \\left(- \\sin{\\left(\\theta_{2} \\right)} \\cos{\\left(\\theta_{1} \\right)} \\cos{\\left(\\theta_{3} \\right)} - \\sin{\\left(\\theta_{3} \\right)} \\cos{\\left(\\theta_{1} \\right)} \\cos{\\left(\\theta_{2} \\right)}\\right) \\cos{\\left(\\theta_{5} \\right)} - 0.145 \\sin{\\left(\\theta_{2} \\right)} \\sin{\\left(\\theta_{3} \\right)} \\cos{\\left(\\theta_{1} \\right)} + 0.82 \\sin{\\left(\\theta_{2} \\right)} \\cos{\\left(\\theta_{1} \\right)} \\cos{\\left(\\theta_{3} \\right)} + 0.82 \\sin{\\left(\\theta_{3} \\right)} \\cos{\\left(\\theta_{1} \\right)} \\cos{\\left(\\theta_{2} \\right)} + 0.145 \\cos{\\left(\\theta_{1} \\right)} \\cos{\\left(\\theta_{2} \\right)} \\cos{\\left(\\theta_{3} \\right)} + 0.85 \\cos{\\left(\\theta_{1} \\right)} \\cos{\\left(\\theta_{2} \\right)} + 0.35 \\cos{\\left(\\theta_{1} \\right)}\\\\\\left(\\left(\\left(- \\sin{\\left(\\theta_{1} \\right)} \\sin{\\left(\\theta_{2} \\right)} \\sin{\\left(\\theta_{3} \\right)} + \\sin{\\left(\\theta_{1} \\right)} \\cos{\\left(\\theta_{2} \\right)} \\cos{\\left(\\theta_{3} \\right)}\\right) \\cos{\\left(\\theta_{4} \\right)} + \\sin{\\left(\\theta_{4} \\right)} \\cos{\\left(\\theta_{1} \\right)}\\right) \\cos{\\left(\\theta_{5} \\right)} + \\left(- \\sin{\\left(\\theta_{1} \\right)} \\sin{\\left(\\theta_{2} \\right)} \\cos{\\left(\\theta_{3} \\right)} - \\sin{\\left(\\theta_{1} \\right)} \\sin{\\left(\\theta_{3} \\right)} \\cos{\\left(\\theta_{2} \\right)}\\right) \\sin{\\left(\\theta_{5} \\right)}\\right) \\cos{\\left(\\theta_{6} \\right)} + \\left(- \\left(- \\sin{\\left(\\theta_{1} \\right)} \\sin{\\left(\\theta_{2} \\right)} \\sin{\\left(\\theta_{3} \\right)} + \\sin{\\left(\\theta_{1} \\right)} \\cos{\\left(\\theta_{2} \\right)} \\cos{\\left(\\theta_{3} \\right)}\\right) \\sin{\\left(\\theta_{4} \\right)} + \\cos{\\left(\\theta_{1} \\right)} \\cos{\\left(\\theta_{4} \\right)}\\right) \\sin{\\left(\\theta_{6} \\right)} & - \\left(\\left(\\left(- \\sin{\\left(\\theta_{1} \\right)} \\sin{\\left(\\theta_{2} \\right)} \\sin{\\left(\\theta_{3} \\right)} + \\sin{\\left(\\theta_{1} \\right)} \\cos{\\left(\\theta_{2} \\right)} \\cos{\\left(\\theta_{3} \\right)}\\right) \\cos{\\left(\\theta_{4} \\right)} + \\sin{\\left(\\theta_{4} \\right)} \\cos{\\left(\\theta_{1} \\right)}\\right) \\cos{\\left(\\theta_{5} \\right)} + \\left(- \\sin{\\left(\\theta_{1} \\right)} \\sin{\\left(\\theta_{2} \\right)} \\cos{\\left(\\theta_{3} \\right)} - \\sin{\\left(\\theta_{1} \\right)} \\sin{\\left(\\theta_{3} \\right)} \\cos{\\left(\\theta_{2} \\right)}\\right) \\sin{\\left(\\theta_{5} \\right)}\\right) \\sin{\\left(\\theta_{6} \\right)} + \\left(- \\left(- \\sin{\\left(\\theta_{1} \\right)} \\sin{\\left(\\theta_{2} \\right)} \\sin{\\left(\\theta_{3} \\right)} + \\sin{\\left(\\theta_{1} \\right)} \\cos{\\left(\\theta_{2} \\right)} \\cos{\\left(\\theta_{3} \\right)}\\right) \\sin{\\left(\\theta_{4} \\right)} + \\cos{\\left(\\theta_{1} \\right)} \\cos{\\left(\\theta_{4} \\right)}\\right) \\cos{\\left(\\theta_{6} \\right)} & \\left(\\left(- \\sin{\\left(\\theta_{1} \\right)} \\sin{\\left(\\theta_{2} \\right)} \\sin{\\left(\\theta_{3} \\right)} + \\sin{\\left(\\theta_{1} \\right)} \\cos{\\left(\\theta_{2} \\right)} \\cos{\\left(\\theta_{3} \\right)}\\right) \\cos{\\left(\\theta_{4} \\right)} + \\sin{\\left(\\theta_{4} \\right)} \\cos{\\left(\\theta_{1} \\right)}\\right) \\sin{\\left(\\theta_{5} \\right)} - \\left(- \\sin{\\left(\\theta_{1} \\right)} \\sin{\\left(\\theta_{2} \\right)} \\cos{\\left(\\theta_{3} \\right)} - \\sin{\\left(\\theta_{1} \\right)} \\sin{\\left(\\theta_{3} \\right)} \\cos{\\left(\\theta_{2} \\right)}\\right) \\cos{\\left(\\theta_{5} \\right)} & 0.17 \\left(\\left(- \\sin{\\left(\\theta_{1} \\right)} \\sin{\\left(\\theta_{2} \\right)} \\sin{\\left(\\theta_{3} \\right)} + \\sin{\\left(\\theta_{1} \\right)} \\cos{\\left(\\theta_{2} \\right)} \\cos{\\left(\\theta_{3} \\right)}\\right) \\cos{\\left(\\theta_{4} \\right)} + \\sin{\\left(\\theta_{4} \\right)} \\cos{\\left(\\theta_{1} \\right)}\\right) \\sin{\\left(\\theta_{5} \\right)} - 0.17 \\left(- \\sin{\\left(\\theta_{1} \\right)} \\sin{\\left(\\theta_{2} \\right)} \\cos{\\left(\\theta_{3} \\right)} - \\sin{\\left(\\theta_{1} \\right)} \\sin{\\left(\\theta_{3} \\right)} \\cos{\\left(\\theta_{2} \\right)}\\right) \\cos{\\left(\\theta_{5} \\right)} - 0.145 \\sin{\\left(\\theta_{1} \\right)} \\sin{\\left(\\theta_{2} \\right)} \\sin{\\left(\\theta_{3} \\right)} + 0.82 \\sin{\\left(\\theta_{1} \\right)} \\sin{\\left(\\theta_{2} \\right)} \\cos{\\left(\\theta_{3} \\right)} + 0.82 \\sin{\\left(\\theta_{1} \\right)} \\sin{\\left(\\theta_{3} \\right)} \\cos{\\left(\\theta_{2} \\right)} + 0.145 \\sin{\\left(\\theta_{1} \\right)} \\cos{\\left(\\theta_{2} \\right)} \\cos{\\left(\\theta_{3} \\right)} + 0.85 \\sin{\\left(\\theta_{1} \\right)} \\cos{\\left(\\theta_{2} \\right)} + 0.35 \\sin{\\left(\\theta_{1} \\right)}\\\\\\left(\\left(\\sin{\\left(\\theta_{2} \\right)} \\sin{\\left(\\theta_{3} \\right)} - \\cos{\\left(\\theta_{2} \\right)} \\cos{\\left(\\theta_{3} \\right)}\\right) \\sin{\\left(\\theta_{5} \\right)} + \\left(- \\sin{\\left(\\theta_{2} \\right)} \\cos{\\left(\\theta_{3} \\right)} - \\sin{\\left(\\theta_{3} \\right)} \\cos{\\left(\\theta_{2} \\right)}\\right) \\cos{\\left(\\theta_{4} \\right)} \\cos{\\left(\\theta_{5} \\right)}\\right) \\cos{\\left(\\theta_{6} \\right)} - \\left(- \\sin{\\left(\\theta_{2} \\right)} \\cos{\\left(\\theta_{3} \\right)} - \\sin{\\left(\\theta_{3} \\right)} \\cos{\\left(\\theta_{2} \\right)}\\right) \\sin{\\left(\\theta_{4} \\right)} \\sin{\\left(\\theta_{6} \\right)} & - \\left(\\left(\\sin{\\left(\\theta_{2} \\right)} \\sin{\\left(\\theta_{3} \\right)} - \\cos{\\left(\\theta_{2} \\right)} \\cos{\\left(\\theta_{3} \\right)}\\right) \\sin{\\left(\\theta_{5} \\right)} + \\left(- \\sin{\\left(\\theta_{2} \\right)} \\cos{\\left(\\theta_{3} \\right)} - \\sin{\\left(\\theta_{3} \\right)} \\cos{\\left(\\theta_{2} \\right)}\\right) \\cos{\\left(\\theta_{4} \\right)} \\cos{\\left(\\theta_{5} \\right)}\\right) \\sin{\\left(\\theta_{6} \\right)} - \\left(- \\sin{\\left(\\theta_{2} \\right)} \\cos{\\left(\\theta_{3} \\right)} - \\sin{\\left(\\theta_{3} \\right)} \\cos{\\left(\\theta_{2} \\right)}\\right) \\sin{\\left(\\theta_{4} \\right)} \\cos{\\left(\\theta_{6} \\right)} & - \\left(\\sin{\\left(\\theta_{2} \\right)} \\sin{\\left(\\theta_{3} \\right)} - \\cos{\\left(\\theta_{2} \\right)} \\cos{\\left(\\theta_{3} \\right)}\\right) \\cos{\\left(\\theta_{5} \\right)} + \\left(- \\sin{\\left(\\theta_{2} \\right)} \\cos{\\left(\\theta_{3} \\right)} - \\sin{\\left(\\theta_{3} \\right)} \\cos{\\left(\\theta_{2} \\right)}\\right) \\sin{\\left(\\theta_{5} \\right)} \\cos{\\left(\\theta_{4} \\right)} & - 0.17 \\left(\\sin{\\left(\\theta_{2} \\right)} \\sin{\\left(\\theta_{3} \\right)} - \\cos{\\left(\\theta_{2} \\right)} \\cos{\\left(\\theta_{3} \\right)}\\right) \\cos{\\left(\\theta_{5} \\right)} + 0.17 \\left(- \\sin{\\left(\\theta_{2} \\right)} \\cos{\\left(\\theta_{3} \\right)} - \\sin{\\left(\\theta_{3} \\right)} \\cos{\\left(\\theta_{2} \\right)}\\right) \\sin{\\left(\\theta_{5} \\right)} \\cos{\\left(\\theta_{4} \\right)} - 0.82 \\sin{\\left(\\theta_{2} \\right)} \\sin{\\left(\\theta_{3} \\right)} - 0.145 \\sin{\\left(\\theta_{2} \\right)} \\cos{\\left(\\theta_{3} \\right)} - 0.85 \\sin{\\left(\\theta_{2} \\right)} - 0.145 \\sin{\\left(\\theta_{3} \\right)} \\cos{\\left(\\theta_{2} \\right)} + 0.82 \\cos{\\left(\\theta_{2} \\right)} \\cos{\\left(\\theta_{3} \\right)} + 0.815\\\\0 & 0 & 0 & 1\\end{matrix}\\right]$"
      ],
      "text/plain": [
       "Matrix([\n",
       "[(((-sin(theta2)*sin(theta3)*cos(theta1) + cos(theta1)*cos(theta2)*cos(theta3))*cos(theta4) - sin(theta1)*sin(theta4))*cos(theta5) + (-sin(theta2)*cos(theta1)*cos(theta3) - sin(theta3)*cos(theta1)*cos(theta2))*sin(theta5))*cos(theta6) + (-(-sin(theta2)*sin(theta3)*cos(theta1) + cos(theta1)*cos(theta2)*cos(theta3))*sin(theta4) - sin(theta1)*cos(theta4))*sin(theta6), -(((-sin(theta2)*sin(theta3)*cos(theta1) + cos(theta1)*cos(theta2)*cos(theta3))*cos(theta4) - sin(theta1)*sin(theta4))*cos(theta5) + (-sin(theta2)*cos(theta1)*cos(theta3) - sin(theta3)*cos(theta1)*cos(theta2))*sin(theta5))*sin(theta6) + (-(-sin(theta2)*sin(theta3)*cos(theta1) + cos(theta1)*cos(theta2)*cos(theta3))*sin(theta4) - sin(theta1)*cos(theta4))*cos(theta6), ((-sin(theta2)*sin(theta3)*cos(theta1) + cos(theta1)*cos(theta2)*cos(theta3))*cos(theta4) - sin(theta1)*sin(theta4))*sin(theta5) - (-sin(theta2)*cos(theta1)*cos(theta3) - sin(theta3)*cos(theta1)*cos(theta2))*cos(theta5), 0.17*((-sin(theta2)*sin(theta3)*cos(theta1) + cos(theta1)*cos(theta2)*cos(theta3))*cos(theta4) - sin(theta1)*sin(theta4))*sin(theta5) - 0.17*(-sin(theta2)*cos(theta1)*cos(theta3) - sin(theta3)*cos(theta1)*cos(theta2))*cos(theta5) - 0.145*sin(theta2)*sin(theta3)*cos(theta1) + 0.82*sin(theta2)*cos(theta1)*cos(theta3) + 0.82*sin(theta3)*cos(theta1)*cos(theta2) + 0.145*cos(theta1)*cos(theta2)*cos(theta3) + 0.85*cos(theta1)*cos(theta2) + 0.35*cos(theta1)],\n",
       "[(((-sin(theta1)*sin(theta2)*sin(theta3) + sin(theta1)*cos(theta2)*cos(theta3))*cos(theta4) + sin(theta4)*cos(theta1))*cos(theta5) + (-sin(theta1)*sin(theta2)*cos(theta3) - sin(theta1)*sin(theta3)*cos(theta2))*sin(theta5))*cos(theta6) + (-(-sin(theta1)*sin(theta2)*sin(theta3) + sin(theta1)*cos(theta2)*cos(theta3))*sin(theta4) + cos(theta1)*cos(theta4))*sin(theta6), -(((-sin(theta1)*sin(theta2)*sin(theta3) + sin(theta1)*cos(theta2)*cos(theta3))*cos(theta4) + sin(theta4)*cos(theta1))*cos(theta5) + (-sin(theta1)*sin(theta2)*cos(theta3) - sin(theta1)*sin(theta3)*cos(theta2))*sin(theta5))*sin(theta6) + (-(-sin(theta1)*sin(theta2)*sin(theta3) + sin(theta1)*cos(theta2)*cos(theta3))*sin(theta4) + cos(theta1)*cos(theta4))*cos(theta6), ((-sin(theta1)*sin(theta2)*sin(theta3) + sin(theta1)*cos(theta2)*cos(theta3))*cos(theta4) + sin(theta4)*cos(theta1))*sin(theta5) - (-sin(theta1)*sin(theta2)*cos(theta3) - sin(theta1)*sin(theta3)*cos(theta2))*cos(theta5), 0.17*((-sin(theta1)*sin(theta2)*sin(theta3) + sin(theta1)*cos(theta2)*cos(theta3))*cos(theta4) + sin(theta4)*cos(theta1))*sin(theta5) - 0.17*(-sin(theta1)*sin(theta2)*cos(theta3) - sin(theta1)*sin(theta3)*cos(theta2))*cos(theta5) - 0.145*sin(theta1)*sin(theta2)*sin(theta3) + 0.82*sin(theta1)*sin(theta2)*cos(theta3) + 0.82*sin(theta1)*sin(theta3)*cos(theta2) + 0.145*sin(theta1)*cos(theta2)*cos(theta3) + 0.85*sin(theta1)*cos(theta2) + 0.35*sin(theta1)],\n",
       "[                                                                                                                                  ((sin(theta2)*sin(theta3) - cos(theta2)*cos(theta3))*sin(theta5) + (-sin(theta2)*cos(theta3) - sin(theta3)*cos(theta2))*cos(theta4)*cos(theta5))*cos(theta6) - (-sin(theta2)*cos(theta3) - sin(theta3)*cos(theta2))*sin(theta4)*sin(theta6),                                                                                                                                   -((sin(theta2)*sin(theta3) - cos(theta2)*cos(theta3))*sin(theta5) + (-sin(theta2)*cos(theta3) - sin(theta3)*cos(theta2))*cos(theta4)*cos(theta5))*sin(theta6) - (-sin(theta2)*cos(theta3) - sin(theta3)*cos(theta2))*sin(theta4)*cos(theta6),                                                                             -(sin(theta2)*sin(theta3) - cos(theta2)*cos(theta3))*cos(theta5) + (-sin(theta2)*cos(theta3) - sin(theta3)*cos(theta2))*sin(theta5)*cos(theta4),                                                                                                                                                    -0.17*(sin(theta2)*sin(theta3) - cos(theta2)*cos(theta3))*cos(theta5) + 0.17*(-sin(theta2)*cos(theta3) - sin(theta3)*cos(theta2))*sin(theta5)*cos(theta4) - 0.82*sin(theta2)*sin(theta3) - 0.145*sin(theta2)*cos(theta3) - 0.85*sin(theta2) - 0.145*sin(theta3)*cos(theta2) + 0.82*cos(theta2)*cos(theta3) + 0.815],\n",
       "[                                                                                                                                                                                                                                                                                                                                                                            0,                                                                                                                                                                                                                                                                                                                                                                              0,                                                                                                                                                                                                                           0,                                                                                                                                                                                                                                                                                                                                                                                                                                                                     1]])"
      ]
     },
     "metadata": {},
     "output_type": "display_data"
    },
    {
     "data": {
      "text/latex": [
       "$\\displaystyle \\left[\\begin{matrix}\\left(\\left(\\left(c{\\left(\\theta_{1} \\right)} c{\\left(\\theta_{2} \\right)} c{\\left(\\theta_{3} \\right)} - c{\\left(\\theta_{1} \\right)} s{\\left(\\theta_{2} \\right)} s{\\left(\\theta_{3} \\right)}\\right) c{\\left(\\theta_{4} \\right)} - s{\\left(\\theta_{1} \\right)} s{\\left(\\theta_{4} \\right)}\\right) c{\\left(\\theta_{5} \\right)} + \\left(- c{\\left(\\theta_{1} \\right)} c{\\left(\\theta_{2} \\right)} s{\\left(\\theta_{3} \\right)} - c{\\left(\\theta_{1} \\right)} c{\\left(\\theta_{3} \\right)} s{\\left(\\theta_{2} \\right)}\\right) s{\\left(\\theta_{5} \\right)}\\right) c{\\left(\\theta_{6} \\right)} + \\left(- \\left(c{\\left(\\theta_{1} \\right)} c{\\left(\\theta_{2} \\right)} c{\\left(\\theta_{3} \\right)} - c{\\left(\\theta_{1} \\right)} s{\\left(\\theta_{2} \\right)} s{\\left(\\theta_{3} \\right)}\\right) s{\\left(\\theta_{4} \\right)} - c{\\left(\\theta_{4} \\right)} s{\\left(\\theta_{1} \\right)}\\right) s{\\left(\\theta_{6} \\right)} & - \\left(\\left(\\left(c{\\left(\\theta_{1} \\right)} c{\\left(\\theta_{2} \\right)} c{\\left(\\theta_{3} \\right)} - c{\\left(\\theta_{1} \\right)} s{\\left(\\theta_{2} \\right)} s{\\left(\\theta_{3} \\right)}\\right) c{\\left(\\theta_{4} \\right)} - s{\\left(\\theta_{1} \\right)} s{\\left(\\theta_{4} \\right)}\\right) c{\\left(\\theta_{5} \\right)} + \\left(- c{\\left(\\theta_{1} \\right)} c{\\left(\\theta_{2} \\right)} s{\\left(\\theta_{3} \\right)} - c{\\left(\\theta_{1} \\right)} c{\\left(\\theta_{3} \\right)} s{\\left(\\theta_{2} \\right)}\\right) s{\\left(\\theta_{5} \\right)}\\right) s{\\left(\\theta_{6} \\right)} + \\left(- \\left(c{\\left(\\theta_{1} \\right)} c{\\left(\\theta_{2} \\right)} c{\\left(\\theta_{3} \\right)} - c{\\left(\\theta_{1} \\right)} s{\\left(\\theta_{2} \\right)} s{\\left(\\theta_{3} \\right)}\\right) s{\\left(\\theta_{4} \\right)} - c{\\left(\\theta_{4} \\right)} s{\\left(\\theta_{1} \\right)}\\right) c{\\left(\\theta_{6} \\right)} & \\left(\\left(c{\\left(\\theta_{1} \\right)} c{\\left(\\theta_{2} \\right)} c{\\left(\\theta_{3} \\right)} - c{\\left(\\theta_{1} \\right)} s{\\left(\\theta_{2} \\right)} s{\\left(\\theta_{3} \\right)}\\right) c{\\left(\\theta_{4} \\right)} - s{\\left(\\theta_{1} \\right)} s{\\left(\\theta_{4} \\right)}\\right) s{\\left(\\theta_{5} \\right)} - \\left(- c{\\left(\\theta_{1} \\right)} c{\\left(\\theta_{2} \\right)} s{\\left(\\theta_{3} \\right)} - c{\\left(\\theta_{1} \\right)} c{\\left(\\theta_{3} \\right)} s{\\left(\\theta_{2} \\right)}\\right) c{\\left(\\theta_{5} \\right)} & 0.17 \\left(\\left(c{\\left(\\theta_{1} \\right)} c{\\left(\\theta_{2} \\right)} c{\\left(\\theta_{3} \\right)} - c{\\left(\\theta_{1} \\right)} s{\\left(\\theta_{2} \\right)} s{\\left(\\theta_{3} \\right)}\\right) c{\\left(\\theta_{4} \\right)} - s{\\left(\\theta_{1} \\right)} s{\\left(\\theta_{4} \\right)}\\right) s{\\left(\\theta_{5} \\right)} - 0.17 \\left(- c{\\left(\\theta_{1} \\right)} c{\\left(\\theta_{2} \\right)} s{\\left(\\theta_{3} \\right)} - c{\\left(\\theta_{1} \\right)} c{\\left(\\theta_{3} \\right)} s{\\left(\\theta_{2} \\right)}\\right) c{\\left(\\theta_{5} \\right)} + 0.145 c{\\left(\\theta_{1} \\right)} c{\\left(\\theta_{2} \\right)} c{\\left(\\theta_{3} \\right)} + 0.82 c{\\left(\\theta_{1} \\right)} c{\\left(\\theta_{2} \\right)} s{\\left(\\theta_{3} \\right)} + 0.85 c{\\left(\\theta_{1} \\right)} c{\\left(\\theta_{2} \\right)} + 0.82 c{\\left(\\theta_{1} \\right)} c{\\left(\\theta_{3} \\right)} s{\\left(\\theta_{2} \\right)} - 0.145 c{\\left(\\theta_{1} \\right)} s{\\left(\\theta_{2} \\right)} s{\\left(\\theta_{3} \\right)} + 0.35 c{\\left(\\theta_{1} \\right)}\\\\\\left(\\left(\\left(c{\\left(\\theta_{2} \\right)} c{\\left(\\theta_{3} \\right)} s{\\left(\\theta_{1} \\right)} - s{\\left(\\theta_{1} \\right)} s{\\left(\\theta_{2} \\right)} s{\\left(\\theta_{3} \\right)}\\right) c{\\left(\\theta_{4} \\right)} + c{\\left(\\theta_{1} \\right)} s{\\left(\\theta_{4} \\right)}\\right) c{\\left(\\theta_{5} \\right)} + \\left(- c{\\left(\\theta_{2} \\right)} s{\\left(\\theta_{1} \\right)} s{\\left(\\theta_{3} \\right)} - c{\\left(\\theta_{3} \\right)} s{\\left(\\theta_{1} \\right)} s{\\left(\\theta_{2} \\right)}\\right) s{\\left(\\theta_{5} \\right)}\\right) c{\\left(\\theta_{6} \\right)} + \\left(- \\left(c{\\left(\\theta_{2} \\right)} c{\\left(\\theta_{3} \\right)} s{\\left(\\theta_{1} \\right)} - s{\\left(\\theta_{1} \\right)} s{\\left(\\theta_{2} \\right)} s{\\left(\\theta_{3} \\right)}\\right) s{\\left(\\theta_{4} \\right)} + c{\\left(\\theta_{1} \\right)} c{\\left(\\theta_{4} \\right)}\\right) s{\\left(\\theta_{6} \\right)} & - \\left(\\left(\\left(c{\\left(\\theta_{2} \\right)} c{\\left(\\theta_{3} \\right)} s{\\left(\\theta_{1} \\right)} - s{\\left(\\theta_{1} \\right)} s{\\left(\\theta_{2} \\right)} s{\\left(\\theta_{3} \\right)}\\right) c{\\left(\\theta_{4} \\right)} + c{\\left(\\theta_{1} \\right)} s{\\left(\\theta_{4} \\right)}\\right) c{\\left(\\theta_{5} \\right)} + \\left(- c{\\left(\\theta_{2} \\right)} s{\\left(\\theta_{1} \\right)} s{\\left(\\theta_{3} \\right)} - c{\\left(\\theta_{3} \\right)} s{\\left(\\theta_{1} \\right)} s{\\left(\\theta_{2} \\right)}\\right) s{\\left(\\theta_{5} \\right)}\\right) s{\\left(\\theta_{6} \\right)} + \\left(- \\left(c{\\left(\\theta_{2} \\right)} c{\\left(\\theta_{3} \\right)} s{\\left(\\theta_{1} \\right)} - s{\\left(\\theta_{1} \\right)} s{\\left(\\theta_{2} \\right)} s{\\left(\\theta_{3} \\right)}\\right) s{\\left(\\theta_{4} \\right)} + c{\\left(\\theta_{1} \\right)} c{\\left(\\theta_{4} \\right)}\\right) c{\\left(\\theta_{6} \\right)} & \\left(\\left(c{\\left(\\theta_{2} \\right)} c{\\left(\\theta_{3} \\right)} s{\\left(\\theta_{1} \\right)} - s{\\left(\\theta_{1} \\right)} s{\\left(\\theta_{2} \\right)} s{\\left(\\theta_{3} \\right)}\\right) c{\\left(\\theta_{4} \\right)} + c{\\left(\\theta_{1} \\right)} s{\\left(\\theta_{4} \\right)}\\right) s{\\left(\\theta_{5} \\right)} - \\left(- c{\\left(\\theta_{2} \\right)} s{\\left(\\theta_{1} \\right)} s{\\left(\\theta_{3} \\right)} - c{\\left(\\theta_{3} \\right)} s{\\left(\\theta_{1} \\right)} s{\\left(\\theta_{2} \\right)}\\right) c{\\left(\\theta_{5} \\right)} & 0.17 \\left(\\left(c{\\left(\\theta_{2} \\right)} c{\\left(\\theta_{3} \\right)} s{\\left(\\theta_{1} \\right)} - s{\\left(\\theta_{1} \\right)} s{\\left(\\theta_{2} \\right)} s{\\left(\\theta_{3} \\right)}\\right) c{\\left(\\theta_{4} \\right)} + c{\\left(\\theta_{1} \\right)} s{\\left(\\theta_{4} \\right)}\\right) s{\\left(\\theta_{5} \\right)} - 0.17 \\left(- c{\\left(\\theta_{2} \\right)} s{\\left(\\theta_{1} \\right)} s{\\left(\\theta_{3} \\right)} - c{\\left(\\theta_{3} \\right)} s{\\left(\\theta_{1} \\right)} s{\\left(\\theta_{2} \\right)}\\right) c{\\left(\\theta_{5} \\right)} + 0.145 c{\\left(\\theta_{2} \\right)} c{\\left(\\theta_{3} \\right)} s{\\left(\\theta_{1} \\right)} + 0.82 c{\\left(\\theta_{2} \\right)} s{\\left(\\theta_{1} \\right)} s{\\left(\\theta_{3} \\right)} + 0.85 c{\\left(\\theta_{2} \\right)} s{\\left(\\theta_{1} \\right)} + 0.82 c{\\left(\\theta_{3} \\right)} s{\\left(\\theta_{1} \\right)} s{\\left(\\theta_{2} \\right)} - 0.145 s{\\left(\\theta_{1} \\right)} s{\\left(\\theta_{2} \\right)} s{\\left(\\theta_{3} \\right)} + 0.35 s{\\left(\\theta_{1} \\right)}\\\\\\left(\\left(- c{\\left(\\theta_{2} \\right)} c{\\left(\\theta_{3} \\right)} + s{\\left(\\theta_{2} \\right)} s{\\left(\\theta_{3} \\right)}\\right) s{\\left(\\theta_{5} \\right)} + \\left(- c{\\left(\\theta_{2} \\right)} s{\\left(\\theta_{3} \\right)} - c{\\left(\\theta_{3} \\right)} s{\\left(\\theta_{2} \\right)}\\right) c{\\left(\\theta_{4} \\right)} c{\\left(\\theta_{5} \\right)}\\right) c{\\left(\\theta_{6} \\right)} - \\left(- c{\\left(\\theta_{2} \\right)} s{\\left(\\theta_{3} \\right)} - c{\\left(\\theta_{3} \\right)} s{\\left(\\theta_{2} \\right)}\\right) s{\\left(\\theta_{4} \\right)} s{\\left(\\theta_{6} \\right)} & - \\left(\\left(- c{\\left(\\theta_{2} \\right)} c{\\left(\\theta_{3} \\right)} + s{\\left(\\theta_{2} \\right)} s{\\left(\\theta_{3} \\right)}\\right) s{\\left(\\theta_{5} \\right)} + \\left(- c{\\left(\\theta_{2} \\right)} s{\\left(\\theta_{3} \\right)} - c{\\left(\\theta_{3} \\right)} s{\\left(\\theta_{2} \\right)}\\right) c{\\left(\\theta_{4} \\right)} c{\\left(\\theta_{5} \\right)}\\right) s{\\left(\\theta_{6} \\right)} - \\left(- c{\\left(\\theta_{2} \\right)} s{\\left(\\theta_{3} \\right)} - c{\\left(\\theta_{3} \\right)} s{\\left(\\theta_{2} \\right)}\\right) c{\\left(\\theta_{6} \\right)} s{\\left(\\theta_{4} \\right)} & - \\left(- c{\\left(\\theta_{2} \\right)} c{\\left(\\theta_{3} \\right)} + s{\\left(\\theta_{2} \\right)} s{\\left(\\theta_{3} \\right)}\\right) c{\\left(\\theta_{5} \\right)} + \\left(- c{\\left(\\theta_{2} \\right)} s{\\left(\\theta_{3} \\right)} - c{\\left(\\theta_{3} \\right)} s{\\left(\\theta_{2} \\right)}\\right) c{\\left(\\theta_{4} \\right)} s{\\left(\\theta_{5} \\right)} & - 0.17 \\left(- c{\\left(\\theta_{2} \\right)} c{\\left(\\theta_{3} \\right)} + s{\\left(\\theta_{2} \\right)} s{\\left(\\theta_{3} \\right)}\\right) c{\\left(\\theta_{5} \\right)} + 0.17 \\left(- c{\\left(\\theta_{2} \\right)} s{\\left(\\theta_{3} \\right)} - c{\\left(\\theta_{3} \\right)} s{\\left(\\theta_{2} \\right)}\\right) c{\\left(\\theta_{4} \\right)} s{\\left(\\theta_{5} \\right)} + 0.82 c{\\left(\\theta_{2} \\right)} c{\\left(\\theta_{3} \\right)} - 0.145 c{\\left(\\theta_{2} \\right)} s{\\left(\\theta_{3} \\right)} - 0.145 c{\\left(\\theta_{3} \\right)} s{\\left(\\theta_{2} \\right)} - 0.82 s{\\left(\\theta_{2} \\right)} s{\\left(\\theta_{3} \\right)} - 0.85 s{\\left(\\theta_{2} \\right)} + 0.815\\\\0 & 0 & 0 & 1\\end{matrix}\\right]$"
      ],
      "text/plain": [
       "Matrix([\n",
       "[(((c(theta1)*c(theta2)*c(theta3) - c(theta1)*s(theta2)*s(theta3))*c(theta4) - s(theta1)*s(theta4))*c(theta5) + (-c(theta1)*c(theta2)*s(theta3) - c(theta1)*c(theta3)*s(theta2))*s(theta5))*c(theta6) + (-(c(theta1)*c(theta2)*c(theta3) - c(theta1)*s(theta2)*s(theta3))*s(theta4) - c(theta4)*s(theta1))*s(theta6), -(((c(theta1)*c(theta2)*c(theta3) - c(theta1)*s(theta2)*s(theta3))*c(theta4) - s(theta1)*s(theta4))*c(theta5) + (-c(theta1)*c(theta2)*s(theta3) - c(theta1)*c(theta3)*s(theta2))*s(theta5))*s(theta6) + (-(c(theta1)*c(theta2)*c(theta3) - c(theta1)*s(theta2)*s(theta3))*s(theta4) - c(theta4)*s(theta1))*c(theta6), ((c(theta1)*c(theta2)*c(theta3) - c(theta1)*s(theta2)*s(theta3))*c(theta4) - s(theta1)*s(theta4))*s(theta5) - (-c(theta1)*c(theta2)*s(theta3) - c(theta1)*c(theta3)*s(theta2))*c(theta5), 0.17*((c(theta1)*c(theta2)*c(theta3) - c(theta1)*s(theta2)*s(theta3))*c(theta4) - s(theta1)*s(theta4))*s(theta5) - 0.17*(-c(theta1)*c(theta2)*s(theta3) - c(theta1)*c(theta3)*s(theta2))*c(theta5) + 0.145*c(theta1)*c(theta2)*c(theta3) + 0.82*c(theta1)*c(theta2)*s(theta3) + 0.85*c(theta1)*c(theta2) + 0.82*c(theta1)*c(theta3)*s(theta2) - 0.145*c(theta1)*s(theta2)*s(theta3) + 0.35*c(theta1)],\n",
       "[(((c(theta2)*c(theta3)*s(theta1) - s(theta1)*s(theta2)*s(theta3))*c(theta4) + c(theta1)*s(theta4))*c(theta5) + (-c(theta2)*s(theta1)*s(theta3) - c(theta3)*s(theta1)*s(theta2))*s(theta5))*c(theta6) + (-(c(theta2)*c(theta3)*s(theta1) - s(theta1)*s(theta2)*s(theta3))*s(theta4) + c(theta1)*c(theta4))*s(theta6), -(((c(theta2)*c(theta3)*s(theta1) - s(theta1)*s(theta2)*s(theta3))*c(theta4) + c(theta1)*s(theta4))*c(theta5) + (-c(theta2)*s(theta1)*s(theta3) - c(theta3)*s(theta1)*s(theta2))*s(theta5))*s(theta6) + (-(c(theta2)*c(theta3)*s(theta1) - s(theta1)*s(theta2)*s(theta3))*s(theta4) + c(theta1)*c(theta4))*c(theta6), ((c(theta2)*c(theta3)*s(theta1) - s(theta1)*s(theta2)*s(theta3))*c(theta4) + c(theta1)*s(theta4))*s(theta5) - (-c(theta2)*s(theta1)*s(theta3) - c(theta3)*s(theta1)*s(theta2))*c(theta5), 0.17*((c(theta2)*c(theta3)*s(theta1) - s(theta1)*s(theta2)*s(theta3))*c(theta4) + c(theta1)*s(theta4))*s(theta5) - 0.17*(-c(theta2)*s(theta1)*s(theta3) - c(theta3)*s(theta1)*s(theta2))*c(theta5) + 0.145*c(theta2)*c(theta3)*s(theta1) + 0.82*c(theta2)*s(theta1)*s(theta3) + 0.85*c(theta2)*s(theta1) + 0.82*c(theta3)*s(theta1)*s(theta2) - 0.145*s(theta1)*s(theta2)*s(theta3) + 0.35*s(theta1)],\n",
       "[                                                                                                           ((-c(theta2)*c(theta3) + s(theta2)*s(theta3))*s(theta5) + (-c(theta2)*s(theta3) - c(theta3)*s(theta2))*c(theta4)*c(theta5))*c(theta6) - (-c(theta2)*s(theta3) - c(theta3)*s(theta2))*s(theta4)*s(theta6),                                                                                                            -((-c(theta2)*c(theta3) + s(theta2)*s(theta3))*s(theta5) + (-c(theta2)*s(theta3) - c(theta3)*s(theta2))*c(theta4)*c(theta5))*s(theta6) - (-c(theta2)*s(theta3) - c(theta3)*s(theta2))*c(theta6)*s(theta4),                                                               -(-c(theta2)*c(theta3) + s(theta2)*s(theta3))*c(theta5) + (-c(theta2)*s(theta3) - c(theta3)*s(theta2))*c(theta4)*s(theta5),                                                                                                                          -0.17*(-c(theta2)*c(theta3) + s(theta2)*s(theta3))*c(theta5) + 0.17*(-c(theta2)*s(theta3) - c(theta3)*s(theta2))*c(theta4)*s(theta5) + 0.82*c(theta2)*c(theta3) - 0.145*c(theta2)*s(theta3) - 0.145*c(theta3)*s(theta2) - 0.82*s(theta2)*s(theta3) - 0.85*s(theta2) + 0.815],\n",
       "[                                                                                                                                                                                                                                                                                                                  0,                                                                                                                                                                                                                                                                                                                    0,                                                                                                                                                                                        0,                                                                                                                                                                                                                                                                                                                                                                                                    1]])"
      ]
     },
     "metadata": {},
     "output_type": "display_data"
    }
   ],
   "source": [
    "T_06 = T06.replace(s, s1).replace(c, c1)\n",
    "\n",
    "display(T06)\n",
    "display(T_06)"
   ]
  },
  {
   "cell_type": "code",
   "execution_count": 6,
   "metadata": {},
   "outputs": [
    {
     "data": {
      "text/latex": [
       "$\\displaystyle \\left[\\begin{matrix}1 & 0 & 0 & 1.345\\\\0 & 1 & 0 & 0\\\\0 & 0 & 1 & 1.805\\\\0 & 0 & 0 & 1\\end{matrix}\\right]$"
      ],
      "text/plain": [
       "Matrix([\n",
       "[1, 0, 0, 1.345],\n",
       "[0, 1, 0,     0],\n",
       "[0, 0, 1, 1.805],\n",
       "[0, 0, 0,     1]])"
      ]
     },
     "metadata": {},
     "output_type": "display_data"
    }
   ],
   "source": [
    "display(T06.subs({\n",
    "    'theta1': 0,\n",
    "    'theta2': 0,\n",
    "    'theta3': 0,\n",
    "    'theta4': 0,\n",
    "    'theta5': 0,\n",
    "    'theta6': 0\n",
    "}))"
   ]
  },
  {
   "cell_type": "code",
   "execution_count": null,
   "metadata": {},
   "outputs": [],
   "source": []
  }
 ],
 "metadata": {
  "interpreter": {
   "hash": "31f2aee4e71d21fbe5cf8b01ff0e069b9275f58929596ceb00d14d90e3e16cd6"
  },
  "kernelspec": {
   "display_name": "Python 3.6.9 64-bit",
   "language": "python",
   "name": "python3"
  },
  "language_info": {
   "codemirror_mode": {
    "name": "ipython",
    "version": 3
   },
   "file_extension": ".py",
   "mimetype": "text/x-python",
   "name": "python",
   "nbconvert_exporter": "python",
   "pygments_lexer": "ipython3",
   "version": "3.6.9"
  },
  "orig_nbformat": 4
 },
 "nbformat": 4,
 "nbformat_minor": 2
}
